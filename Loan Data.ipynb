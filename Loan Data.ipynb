{
 "cells": [
  {
   "cell_type": "markdown",
   "id": "b928a7e9",
   "metadata": {},
   "source": [
    "<h2>Importing Libraries and Files</h2>"
   ]
  },
  {
   "cell_type": "code",
   "execution_count": 1,
   "id": "66d6b8c5",
   "metadata": {},
   "outputs": [],
   "source": [
    "import numpy as np"
   ]
  },
  {
   "cell_type": "code",
   "execution_count": 2,
   "id": "1ddca73a",
   "metadata": {},
   "outputs": [],
   "source": [
    "np.set_printoptions(suppress=True, linewidth=100, precision=2)"
   ]
  },
  {
   "cell_type": "code",
   "execution_count": 3,
   "id": "277bb56b",
   "metadata": {},
   "outputs": [
    {
     "data": {
      "text/plain": [
       "array([[48010226.  ,         nan,    35000.  , ...,         nan,         nan,     9452.96],\n",
       "       [57693261.  ,         nan,    30000.  , ...,         nan,         nan,     4679.7 ],\n",
       "       [59432726.  ,         nan,    15000.  , ...,         nan,         nan,     1969.83],\n",
       "       ...,\n",
       "       [50415990.  ,         nan,    10000.  , ...,         nan,         nan,     2185.64],\n",
       "       [46154151.  ,         nan,         nan, ...,         nan,         nan,     3199.4 ],\n",
       "       [66055249.  ,         nan,    10000.  , ...,         nan,         nan,      301.9 ]])"
      ]
     },
     "execution_count": 3,
     "metadata": {},
     "output_type": "execute_result"
    }
   ],
   "source": [
    "loan_data = np.genfromtxt('loan-data.csv', delimiter=\";\", encoding=\"cp1252\", skip_header=True, autostrip=True)\n",
    "\n",
    "loan_data"
   ]
  },
  {
   "cell_type": "code",
   "execution_count": 4,
   "id": "216b24d0",
   "metadata": {},
   "outputs": [
    {
     "data": {
      "text/plain": [
       "88005"
      ]
     },
     "execution_count": 4,
     "metadata": {},
     "output_type": "execute_result"
    }
   ],
   "source": [
    "np.isnan(loan_data).sum()"
   ]
  },
  {
   "cell_type": "code",
   "execution_count": 5,
   "id": "19c3a4d5",
   "metadata": {},
   "outputs": [
    {
     "name": "stderr",
     "output_type": "stream",
     "text": [
      "/var/folders/dc/__dw74yd6b7bwyhnpw2bmzjh0000gn/T/ipykernel_14510/2436519439.py:2: RuntimeWarning: Mean of empty slice\n",
      "  temp_mean = np.nanmean(loan_data, axis=0)\n"
     ]
    },
    {
     "data": {
      "text/plain": [
       "array([54015809.19,         nan,    15273.46,         nan,    15311.04,         nan,       16.62,\n",
       "            440.92,         nan,         nan,         nan,         nan,         nan,     3143.85])"
      ]
     },
     "execution_count": 5,
     "metadata": {},
     "output_type": "execute_result"
    }
   ],
   "source": [
    "temp_fill = np.nanmax(loan_data)+1\n",
    "temp_mean = np.nanmean(loan_data, axis=0)\n",
    "temp_mean"
   ]
  },
  {
   "cell_type": "code",
   "execution_count": 6,
   "id": "f8e80293",
   "metadata": {},
   "outputs": [
    {
     "name": "stderr",
     "output_type": "stream",
     "text": [
      "/var/folders/dc/__dw74yd6b7bwyhnpw2bmzjh0000gn/T/ipykernel_14510/613768451.py:1: RuntimeWarning: All-NaN slice encountered\n",
      "  temp_stats = np.array([np.nanmin(loan_data, axis=0),\n",
      "/var/folders/dc/__dw74yd6b7bwyhnpw2bmzjh0000gn/T/ipykernel_14510/613768451.py:3: RuntimeWarning: All-NaN slice encountered\n",
      "  np.nanmax(loan_data, axis=0)])\n"
     ]
    }
   ],
   "source": [
    "temp_stats = np.array([np.nanmin(loan_data, axis=0),\n",
    "                      temp_mean,\n",
    "                      np.nanmax(loan_data, axis=0)])"
   ]
  },
  {
   "cell_type": "markdown",
   "id": "89ed1947",
   "metadata": {},
   "source": [
    "<h3>Splitting the data into strings and numeric</h3>"
   ]
  },
  {
   "cell_type": "code",
   "execution_count": 7,
   "id": "be158ec0",
   "metadata": {},
   "outputs": [],
   "source": [
    "column_strings = np.argwhere(np.isnan(temp_mean)).squeeze()\n",
    "column_numeric = np.argwhere(np.isnan(temp_mean) == False).squeeze()"
   ]
  },
  {
   "cell_type": "markdown",
   "id": "54cb47df",
   "metadata": {},
   "source": [
    "<h3>Reimporting the dataset</h3>"
   ]
  },
  {
   "cell_type": "code",
   "execution_count": 8,
   "id": "68e1d0cf",
   "metadata": {},
   "outputs": [
    {
     "data": {
      "text/plain": [
       "array([['May-15', 'Current', ' 36 months', ..., 'Verified',\n",
       "        'https://www.lendingclub.com/browse/loanDetail.action?loan_id=48010226', 'CA'],\n",
       "       ['', 'Current', ' 36 months', ..., 'Source Verified',\n",
       "        'https://www.lendingclub.com/browse/loanDetail.action?loan_id=57693261', 'NY'],\n",
       "       ['Sep-15', 'Current', ' 36 months', ..., 'Verified',\n",
       "        'https://www.lendingclub.com/browse/loanDetail.action?loan_id=59432726', 'PA'],\n",
       "       ...,\n",
       "       ['Jun-15', 'Current', ' 36 months', ..., 'Source Verified',\n",
       "        'https://www.lendingclub.com/browse/loanDetail.action?loan_id=50415990', 'CA'],\n",
       "       ['Apr-15', 'Current', ' 36 months', ..., 'Source Verified',\n",
       "        'https://www.lendingclub.com/browse/loanDetail.action?loan_id=46154151', 'OH'],\n",
       "       ['Dec-15', 'Current', ' 36 months', ..., '',\n",
       "        'https://www.lendingclub.com/browse/loanDetail.action?loan_id=66055249', 'IL']],\n",
       "      dtype='<U69')"
      ]
     },
     "execution_count": 8,
     "metadata": {},
     "output_type": "execute_result"
    }
   ],
   "source": [
    "loan_str_data = np.genfromtxt('loan-data.csv', \n",
    "                         delimiter=';', \n",
    "                         encoding='cp1252', \n",
    "                         skip_header=1,\n",
    "                         usecols=column_strings, \n",
    "                         dtype=str)\n",
    "loan_str_data"
   ]
  },
  {
   "cell_type": "code",
   "execution_count": 9,
   "id": "636bca62",
   "metadata": {},
   "outputs": [
    {
     "data": {
      "text/plain": [
       "array(['C', 'A', 'B', ..., 'A', 'D', 'A'], dtype='<U69')"
      ]
     },
     "execution_count": 9,
     "metadata": {},
     "output_type": "execute_result"
    }
   ],
   "source": [
    "loan_str_data[:,3]"
   ]
  },
  {
   "cell_type": "code",
   "execution_count": 47,
   "id": "97cf3075",
   "metadata": {},
   "outputs": [
    {
     "data": {
      "text/plain": [
       "array([[48010224.  ,    35000.  ,    35000.  ,       13.33,     1184.86,     9452.96],\n",
       "       [57693260.  ,    30000.  ,    30000.  , 68616520.  ,      938.57,     4679.7 ],\n",
       "       [59432728.  ,    15000.  ,    15000.  , 68616520.  ,      494.86,     1969.83],\n",
       "       ...,\n",
       "       [50415992.  ,    10000.  ,    10000.  , 68616520.  , 68616520.  ,     2185.64],\n",
       "       [46154152.  , 68616520.  ,    10000.  ,       16.55,      354.3 ,     3199.4 ],\n",
       "       [66055248.  ,    10000.  ,    10000.  , 68616520.  ,      309.97,      301.9 ]],\n",
       "      dtype=float32)"
      ]
     },
     "execution_count": 47,
     "metadata": {},
     "output_type": "execute_result"
    }
   ],
   "source": [
    "loan_num_data = np.genfromtxt('loan-data.csv', \n",
    "                         delimiter=';', \n",
    "                         encoding='cp1252', \n",
    "                         skip_header=1,\n",
    "                         filling_values=temp_fill,\n",
    "                         usecols=column_numeric, \n",
    "                         dtype=np.float32)\n",
    "loan_num_data"
   ]
  },
  {
   "cell_type": "code",
   "execution_count": 11,
   "id": "4498f409",
   "metadata": {},
   "outputs": [
    {
     "data": {
      "text/plain": [
       "array(['id', 'issue_d', 'loan_amnt', 'loan_status', 'funded_amnt', 'term', 'int_rate',\n",
       "       'installment', 'grade', 'sub_grade', 'verification_status', 'url', 'addr_state',\n",
       "       'total_pymnt'], dtype='<U19')"
      ]
     },
     "execution_count": 11,
     "metadata": {},
     "output_type": "execute_result"
    }
   ],
   "source": [
    "header_full = np.genfromtxt('loan-data.csv', \n",
    "                            delimiter=';', \n",
    "                            encoding='cp1252',\n",
    "                            autostrip=True,\n",
    "                            skip_footer=loan_data.shape[0],\n",
    "                            dtype=str\n",
    "                           )\n",
    "header_full"
   ]
  },
  {
   "cell_type": "code",
   "execution_count": 12,
   "id": "807627d0",
   "metadata": {},
   "outputs": [
    {
     "data": {
      "text/plain": [
       "array(['issue_d', 'loan_status', 'term', 'grade', 'sub_grade', 'verification_status', 'url',\n",
       "       'addr_state'], dtype='<U19')"
      ]
     },
     "execution_count": 12,
     "metadata": {},
     "output_type": "execute_result"
    }
   ],
   "source": [
    "header_strings = header_full[column_strings]\n",
    "header_strings"
   ]
  },
  {
   "cell_type": "code",
   "execution_count": 13,
   "id": "7957ddc2",
   "metadata": {},
   "outputs": [
    {
     "data": {
      "text/plain": [
       "array(['id', 'loan_amnt', 'funded_amnt', 'int_rate', 'installment', 'total_pymnt'], dtype='<U19')"
      ]
     },
     "execution_count": 13,
     "metadata": {},
     "output_type": "execute_result"
    }
   ],
   "source": [
    "header_num = header_full[column_numeric]\n",
    "header_num"
   ]
  },
  {
   "cell_type": "markdown",
   "id": "c4aedab2",
   "metadata": {},
   "source": [
    "<h3>Creating Checkpoints</h3>"
   ]
  },
  {
   "cell_type": "code",
   "execution_count": 14,
   "id": "d3dec7aa",
   "metadata": {},
   "outputs": [],
   "source": [
    "def checkpoint(file_name, checkpoint_header, checkpoint_data):\n",
    "    np.savez(file_name, header=checkpoint_header, data=checkpoint_data)\n",
    "    checkpoint_variable = np.load(file_name + \".npz\")\n",
    "    return(checkpoint_variable)"
   ]
  },
  {
   "cell_type": "markdown",
   "id": "c89ba23d",
   "metadata": {},
   "source": [
    "<h3>Data Manipulation<h3>"
   ]
  },
  {
   "cell_type": "markdown",
   "id": "66a0c878",
   "metadata": {},
   "source": [
    "<h4>Manipulation of loan_str_data</h4>"
   ]
  },
  {
   "cell_type": "code",
   "execution_count": 15,
   "id": "97eb11fc",
   "metadata": {},
   "outputs": [],
   "source": [
    "header_strings[0] = 'issue_date'"
   ]
  },
  {
   "cell_type": "code",
   "execution_count": 16,
   "id": "8da35aab",
   "metadata": {},
   "outputs": [],
   "source": [
    "loan_str_data[:,0] = np.chararray.strip(loan_str_data[:,0], \"-15\")"
   ]
  },
  {
   "cell_type": "code",
   "execution_count": 17,
   "id": "e038c86c",
   "metadata": {},
   "outputs": [],
   "source": [
    "months = np.array(['', 'Jan', 'Feb', 'Mar', 'Apr', 'May', 'Jun','Jul', 'Aug', 'Sep', 'Oct', 'Nov', 'Dec'])"
   ]
  },
  {
   "cell_type": "code",
   "execution_count": 18,
   "id": "dd917a15",
   "metadata": {},
   "outputs": [],
   "source": [
    "for i in range(13):\n",
    "    loan_str_data[:,0] = np.where(loan_str_data[:,0] == months[i],\n",
    "                                 i,\n",
    "                                 loan_str_data[:,0])"
   ]
  },
  {
   "cell_type": "code",
   "execution_count": 19,
   "id": "9e6a762c",
   "metadata": {},
   "outputs": [
    {
     "data": {
      "text/plain": [
       "array(['0', '1', '10', '11', '12', '2', '3', '4', '5', '6', '7', '8', '9'], dtype='<U69')"
      ]
     },
     "execution_count": 19,
     "metadata": {},
     "output_type": "execute_result"
    }
   ],
   "source": [
    "np.unique(loan_str_data[:,0])"
   ]
  },
  {
   "cell_type": "code",
   "execution_count": 20,
   "id": "141beb2d",
   "metadata": {},
   "outputs": [
    {
     "data": {
      "text/plain": [
       "array(['', 'Charged Off', 'Current', 'Default', 'Fully Paid', 'In Grace Period', 'Issued',\n",
       "       'Late (16-30 days)', 'Late (31-120 days)'], dtype='<U69')"
      ]
     },
     "execution_count": 20,
     "metadata": {},
     "output_type": "execute_result"
    }
   ],
   "source": [
    "np.unique(loan_str_data[:,1])"
   ]
  },
  {
   "cell_type": "code",
   "execution_count": 21,
   "id": "840a5a05",
   "metadata": {},
   "outputs": [],
   "source": [
    "bad_status = np.array(['', 'Charged Off', 'Default', 'Late (31-120 days)'])"
   ]
  },
  {
   "cell_type": "code",
   "execution_count": 22,
   "id": "99d40242",
   "metadata": {},
   "outputs": [
    {
     "data": {
      "text/plain": [
       "array(['0', '1'], dtype='<U69')"
      ]
     },
     "execution_count": 22,
     "metadata": {},
     "output_type": "execute_result"
    }
   ],
   "source": [
    "loan_str_data[:,1] = np.where(np.isin(loan_str_data[:,1], bad_status), 0, 1)\n",
    "np.unique(loan_str_data[:,1])"
   ]
  },
  {
   "cell_type": "code",
   "execution_count": 23,
   "id": "f0e33698",
   "metadata": {},
   "outputs": [
    {
     "data": {
      "text/plain": [
       "array([' 36 months', ' 36 months', ' 36 months', ..., ' 36 months', ' 36 months', ' 36 months'],\n",
       "      dtype='<U69')"
      ]
     },
     "execution_count": 23,
     "metadata": {},
     "output_type": "execute_result"
    }
   ],
   "source": [
    "loan_str_data[:,2]"
   ]
  },
  {
   "cell_type": "code",
   "execution_count": 24,
   "id": "e6388a3a",
   "metadata": {},
   "outputs": [
    {
     "data": {
      "text/plain": [
       "array(['36', '60'], dtype='<U69')"
      ]
     },
     "execution_count": 24,
     "metadata": {},
     "output_type": "execute_result"
    }
   ],
   "source": [
    "loan_str_data[:,2] = np.chararray.strip(np.where(loan_str_data[:,2] == '', '60 months', loan_str_data[:,2]), ' months')\n",
    "np.unique(loan_str_data[:,2])"
   ]
  },
  {
   "cell_type": "code",
   "execution_count": 25,
   "id": "5a2b188a",
   "metadata": {},
   "outputs": [
    {
     "data": {
      "text/plain": [
       "'term_months'"
      ]
     },
     "execution_count": 25,
     "metadata": {},
     "output_type": "execute_result"
    }
   ],
   "source": [
    "header_strings[2] = 'term_months'\n",
    "header_strings[2]"
   ]
  },
  {
   "cell_type": "code",
   "execution_count": 26,
   "id": "0635d7f9",
   "metadata": {},
   "outputs": [
    {
     "data": {
      "text/plain": [
       "array(['A1', 'A2', 'A3', 'A4', 'A5', 'B1', 'B2', 'B3', 'B4', 'B5', 'C1', 'C2', 'C3', 'C4', 'C5',\n",
       "       'D1', 'D2', 'D3', 'D4', 'D5', 'E1', 'E2', 'E3', 'E4', 'E5', 'F1', 'F2', 'F3', 'F4', 'F5',\n",
       "       'G1', 'G2', 'G3', 'G4', 'G5', 'H1'], dtype='<U69')"
      ]
     },
     "execution_count": 26,
     "metadata": {},
     "output_type": "execute_result"
    }
   ],
   "source": [
    "# Filling sub grades\n",
    "for i in np.unique(loan_str_data[:,3][1:]):\n",
    "    loan_str_data[:,4] = np.where(loan_str_data[:,4] == '', 'H1', loan_str_data[:,4])\n",
    "    \n",
    "np.unique(loan_str_data[:,4])"
   ]
  },
  {
   "cell_type": "code",
   "execution_count": 28,
   "id": "1e2d14b7",
   "metadata": {},
   "outputs": [
    {
     "data": {
      "text/plain": [
       "{'A1': 1,\n",
       " 'A2': 2,\n",
       " 'A3': 3,\n",
       " 'A4': 4,\n",
       " 'A5': 5,\n",
       " 'B1': 6,\n",
       " 'B2': 7,\n",
       " 'B3': 8,\n",
       " 'B4': 9,\n",
       " 'B5': 10,\n",
       " 'C1': 11,\n",
       " 'C2': 12,\n",
       " 'C3': 13,\n",
       " 'C4': 14,\n",
       " 'C5': 15,\n",
       " 'D1': 16,\n",
       " 'D2': 17,\n",
       " 'D3': 18,\n",
       " 'D4': 19,\n",
       " 'D5': 20,\n",
       " 'E1': 21,\n",
       " 'E2': 22,\n",
       " 'E3': 23,\n",
       " 'E4': 24,\n",
       " 'E5': 25,\n",
       " 'F1': 26,\n",
       " 'F2': 27,\n",
       " 'F3': 28,\n",
       " 'F4': 29,\n",
       " 'F5': 30,\n",
       " 'G1': 31,\n",
       " 'G2': 32,\n",
       " 'G3': 33,\n",
       " 'G4': 34,\n",
       " 'G5': 35,\n",
       " 'H1': 36}"
      ]
     },
     "execution_count": 28,
     "metadata": {},
     "output_type": "execute_result"
    }
   ],
   "source": [
    "# converting sub grades\n",
    "keys = list(np.unique(loan_str_data[:,4]))\n",
    "values = list(range(1, np.unique(loan_str_data[:,4]).shape[0]+1))\n",
    "dict_sub_grade = dict(zip(keys,values))\n",
    "\n",
    "dict_sub_grade"
   ]
  },
  {
   "cell_type": "code",
   "execution_count": 29,
   "id": "5c91f50e",
   "metadata": {},
   "outputs": [],
   "source": [
    "for i in np.unique(loan_str_data[:,4]):\n",
    "    loan_str_data[:,4] = np.where(loan_str_data[:,4] == i, \n",
    "                                  dict_sub_grade[i], \n",
    "                                  loan_str_data[:,4])"
   ]
  },
  {
   "cell_type": "code",
   "execution_count": 30,
   "id": "9067b914",
   "metadata": {},
   "outputs": [],
   "source": [
    "loan_str_data = np.delete(loan_str_data, 3, axis=1)\n",
    "header_strings = np.delete(header_strings, 3)"
   ]
  },
  {
   "cell_type": "code",
   "execution_count": 31,
   "id": "8a8750f3",
   "metadata": {},
   "outputs": [
    {
     "data": {
      "text/plain": [
       "array(['13', '5', '10', ..., '5', '17', '4'], dtype='<U69')"
      ]
     },
     "execution_count": 31,
     "metadata": {},
     "output_type": "execute_result"
    }
   ],
   "source": [
    "loan_str_data[:,3]"
   ]
  },
  {
   "cell_type": "code",
   "execution_count": 32,
   "id": "4d61de0e",
   "metadata": {},
   "outputs": [
    {
     "data": {
      "text/plain": [
       "array(['issue_date', 'loan_status', 'term_months', 'sub_grade', 'verification_status', 'url',\n",
       "       'addr_state'], dtype='<U19')"
      ]
     },
     "execution_count": 32,
     "metadata": {},
     "output_type": "execute_result"
    }
   ],
   "source": [
    "header_strings"
   ]
  },
  {
   "cell_type": "code",
   "execution_count": 33,
   "id": "04bfd221",
   "metadata": {},
   "outputs": [
    {
     "data": {
      "text/plain": [
       "array(['', 'Not Verified', 'Source Verified', 'Verified'], dtype='<U69')"
      ]
     },
     "execution_count": 33,
     "metadata": {},
     "output_type": "execute_result"
    }
   ],
   "source": [
    "np.unique(loan_str_data[:,4])"
   ]
  },
  {
   "cell_type": "code",
   "execution_count": 34,
   "id": "0a602317",
   "metadata": {},
   "outputs": [
    {
     "data": {
      "text/plain": [
       "array(['0', '1'], dtype='<U69')"
      ]
     },
     "execution_count": 34,
     "metadata": {},
     "output_type": "execute_result"
    }
   ],
   "source": [
    "verify_status = np.array(['', 'Not Verified'])\n",
    "loan_str_data[:,4] = np.where(np.isin(loan_str_data[:,4],verify_status),0,1)\n",
    "np.unique(loan_str_data[:,4])"
   ]
  },
  {
   "cell_type": "code",
   "execution_count": 35,
   "id": "b44efc85",
   "metadata": {},
   "outputs": [],
   "source": [
    "loan_str_data = np.delete(loan_str_data, 5, axis=1)\n",
    "header_strings = np.delete(header_strings, 5)"
   ]
  },
  {
   "cell_type": "code",
   "execution_count": 36,
   "id": "1557d2e9",
   "metadata": {},
   "outputs": [],
   "source": [
    "states_west = np.array(['WA','OR', 'CA','NV','ID','MT','WY','UT','CO','AZ','NM','HI','AK']),\n",
    "states_south = np.array(['TX','OK','AR','LA','MS','AL','TN','KY','FL','GA','SC','NC','VA','WV','MD','DE','DC']),\n",
    "states_midwest = np.array(['ND','SD','NE','KS','MN','IA','MO','WI','IL','IN','MI','OH']),\n",
    "states_east = np.array(['PA','NY', 'NJ', 'CT','MA','VT','NH', 'ME', 'RI'])"
   ]
  },
  {
   "cell_type": "code",
   "execution_count": 37,
   "id": "b2ab95da",
   "metadata": {},
   "outputs": [],
   "source": [
    "loan_str_data[:,5] = np.where(loan_str_data[:,5] =='',0, loan_str_data[:,5])\n",
    "loan_str_data[:,5] = np.where(np.isin(loan_str_data[:,5], states_west),1,loan_str_data[:,5])\n",
    "loan_str_data[:,5] = np.where(np.isin(loan_str_data[:,5], states_south),2,loan_str_data[:,5])\n",
    "loan_str_data[:,5] = np.where(np.isin(loan_str_data[:,5], states_midwest),3,loan_str_data[:,5])\n",
    "loan_str_data[:,5] = np.where(np.isin(loan_str_data[:,5], states_east),4,loan_str_data[:,5])"
   ]
  },
  {
   "cell_type": "code",
   "execution_count": 38,
   "id": "79d51fc5",
   "metadata": {},
   "outputs": [
    {
     "data": {
      "text/plain": [
       "array(['0', '1', '2', '3', '4'], dtype='<U69')"
      ]
     },
     "execution_count": 38,
     "metadata": {},
     "output_type": "execute_result"
    }
   ],
   "source": [
    "np.unique(loan_str_data[:,5])"
   ]
  },
  {
   "cell_type": "code",
   "execution_count": 40,
   "id": "e3558ab2",
   "metadata": {},
   "outputs": [],
   "source": [
    "loan_str_data = loan_str_data.astype(np.int32)"
   ]
  },
  {
   "cell_type": "markdown",
   "id": "a133f7a2",
   "metadata": {},
   "source": [
    "<h3>Checkpoint Strings</h3>"
   ]
  },
  {
   "cell_type": "code",
   "execution_count": 41,
   "id": "b3ab0c1f",
   "metadata": {},
   "outputs": [
    {
     "data": {
      "text/plain": [
       "array([[ 5,  1, 36, 13,  1,  1],\n",
       "       [ 0,  1, 36,  5,  1,  4],\n",
       "       [ 9,  1, 36, 10,  1,  4],\n",
       "       ...,\n",
       "       [ 6,  1, 36,  5,  1,  1],\n",
       "       [ 4,  1, 36, 17,  1,  3],\n",
       "       [12,  1, 36,  4,  0,  3]], dtype=int32)"
      ]
     },
     "execution_count": 41,
     "metadata": {},
     "output_type": "execute_result"
    }
   ],
   "source": [
    "checkpoint_strings = checkpoint('Checkpoint-String', header_strings, loan_str_data)\n",
    "checkpoint_strings['data']"
   ]
  },
  {
   "cell_type": "markdown",
   "id": "2ac6cc40",
   "metadata": {},
   "source": [
    "<h4>Manipulation of loan_num_data</h4>"
   ]
  },
  {
   "cell_type": "code",
   "execution_count": 42,
   "id": "24f38510",
   "metadata": {},
   "outputs": [
    {
     "data": {
      "text/plain": [
       "array(['id', 'loan_amnt', 'funded_amnt', 'int_rate', 'installment', 'total_pymnt'], dtype='<U19')"
      ]
     },
     "execution_count": 42,
     "metadata": {},
     "output_type": "execute_result"
    }
   ],
   "source": [
    "header_num"
   ]
  },
  {
   "cell_type": "code",
   "execution_count": 48,
   "id": "aba456de",
   "metadata": {},
   "outputs": [],
   "source": [
    "loan_num_data[:,2] = np.where(loan_num_data[:,2] == temp_fill,\n",
    "                             temp_stats[0, column_numeric[2]],\n",
    "                             loan_num_data[:,2])"
   ]
  },
  {
   "cell_type": "code",
   "execution_count": 49,
   "id": "8c30914d",
   "metadata": {},
   "outputs": [
    {
     "data": {
      "text/plain": [
       "6.0"
      ]
     },
     "execution_count": 49,
     "metadata": {},
     "output_type": "execute_result"
    }
   ],
   "source": [
    "temp_stats[0, column_numeric[3]]"
   ]
  },
  {
   "cell_type": "code",
   "execution_count": 50,
   "id": "3c4f998b",
   "metadata": {},
   "outputs": [],
   "source": [
    "for i in [1,3,4,5]:\n",
    "    loan_num_data[:,i] = np.where(loan_num_data[:,i] == temp_fill,\n",
    "                            temp_stats[2, column_numeric[i]],\n",
    "                            loan_num_data[:, i])"
   ]
  },
  {
   "cell_type": "code",
   "execution_count": 51,
   "id": "dbe57503",
   "metadata": {},
   "outputs": [
    {
     "data": {
      "text/plain": [
       "array([[48010224.  ,    35000.  ,    35000.  ,       13.33,     1184.86,     9452.96],\n",
       "       [57693260.  ,    30000.  ,    30000.  ,       28.99,      938.57,     4679.7 ],\n",
       "       [59432728.  ,    15000.  ,    15000.  ,       28.99,      494.86,     1969.83],\n",
       "       ...,\n",
       "       [50415992.  ,    10000.  ,    10000.  ,       28.99,     1372.97,     2185.64],\n",
       "       [46154152.  ,    35000.  ,    10000.  ,       16.55,      354.3 ,     3199.4 ],\n",
       "       [66055248.  ,    10000.  ,    10000.  ,       28.99,      309.97,      301.9 ]],\n",
       "      dtype=float32)"
      ]
     },
     "execution_count": 51,
     "metadata": {},
     "output_type": "execute_result"
    }
   ],
   "source": [
    "loan_num_data"
   ]
  },
  {
   "cell_type": "markdown",
   "id": "52292a72",
   "metadata": {},
   "source": [
    "<h3>Exchange Rates</h3>"
   ]
  },
  {
   "cell_type": "code",
   "execution_count": 52,
   "id": "c18e7bd4",
   "metadata": {},
   "outputs": [
    {
     "data": {
      "text/plain": [
       "array([1.13, 1.12, 1.08, 1.11, 1.1 , 1.12, 1.09, 1.13, 1.13, 1.1 , 1.06, 1.09])"
      ]
     },
     "execution_count": 52,
     "metadata": {},
     "output_type": "execute_result"
    }
   ],
   "source": [
    "EUR_USD = np.genfromtxt('EUR-USD.csv', delimiter=',', autostrip=True, skip_header=1, usecols=3)\n",
    "EUR_USD"
   ]
  },
  {
   "cell_type": "code",
   "execution_count": 54,
   "id": "f1633e5b",
   "metadata": {},
   "outputs": [
    {
     "data": {
      "text/plain": [
       "array([1.1 , 1.11, 1.13, ..., 1.12, 1.11, 1.09])"
      ]
     },
     "execution_count": 54,
     "metadata": {},
     "output_type": "execute_result"
    }
   ],
   "source": [
    "exchange_rate = loan_str_data[:,0]\n",
    "\n",
    "for i in range(1,13):\n",
    "    exchange_rate = np.where(exchange_rate == i, EUR_USD[i-1], exchange_rate)\n",
    "    \n",
    "\n",
    "exchange_rate = np.where(exchange_rate == 0, np.mean(EUR_USD), exchange_rate)\n",
    "\n",
    "exchange_rate"
   ]
  },
  {
   "cell_type": "code",
   "execution_count": 55,
   "id": "d1b17a24",
   "metadata": {},
   "outputs": [],
   "source": [
    "exchange_rate = exchange_rate.reshape(10000,1)"
   ]
  },
  {
   "cell_type": "code",
   "execution_count": 58,
   "id": "77ac36a0",
   "metadata": {},
   "outputs": [],
   "source": [
    "loan_num_data = np.hstack((loan_num_data,exchange_rate))"
   ]
  },
  {
   "cell_type": "code",
   "execution_count": 67,
   "id": "4afad2e7",
   "metadata": {},
   "outputs": [],
   "source": [
    "header_num = np.concatenate((header_num, np.array(['exchange_rate'])))"
   ]
  },
  {
   "cell_type": "markdown",
   "id": "4c35d265",
   "metadata": {},
   "source": [
    "<h3>Converting to EUR from USD</h3>"
   ]
  },
  {
   "cell_type": "code",
   "execution_count": 68,
   "id": "6d86cfc1",
   "metadata": {},
   "outputs": [],
   "source": [
    "column_dollar = np.array([1,2,4,5])"
   ]
  },
  {
   "cell_type": "code",
   "execution_count": 70,
   "id": "39ff0504",
   "metadata": {},
   "outputs": [],
   "source": [
    "for i in column_dollar:\n",
    "    loan_num_data = np.hstack((loan_num_data, np.reshape(loan_num_data[:,i]/loan_num_data[:,6], (10000,1))))"
   ]
  },
  {
   "cell_type": "code",
   "execution_count": 71,
   "id": "fe60b2a8",
   "metadata": {},
   "outputs": [
    {
     "data": {
      "text/plain": [
       "array([[48010224.  ,    35000.  ,    35000.  , ...,    31933.3 ,     1081.04,     8624.69],\n",
       "       [57693260.  ,    30000.  ,    30000.  , ...,    27132.46,      848.86,     4232.39],\n",
       "       [59432728.  ,    15000.  ,    15000.  , ...,    13326.3 ,      439.64,     1750.04],\n",
       "       ...,\n",
       "       [50415992.  ,    10000.  ,    10000.  , ...,     8910.3 ,     1223.36,     1947.47],\n",
       "       [46154152.  ,    35000.  ,    10000.  , ...,     8997.4 ,      318.78,     2878.63],\n",
       "       [66055248.  ,    10000.  ,    10000.  , ...,     9145.8 ,      283.49,      276.11]])"
      ]
     },
     "execution_count": 71,
     "metadata": {},
     "output_type": "execute_result"
    }
   ],
   "source": [
    "loan_num_data"
   ]
  },
  {
   "cell_type": "markdown",
   "id": "77348f81",
   "metadata": {},
   "source": [
    "<h3>Expanding Header</h3> "
   ]
  },
  {
   "cell_type": "code",
   "execution_count": 72,
   "id": "ca503a4b",
   "metadata": {},
   "outputs": [
    {
     "data": {
      "text/plain": [
       "array(['loan_amnt_EUR', 'funded_amnt_EUR', 'installment_EUR', 'total_pymnt_EUR'], dtype='<U15')"
      ]
     },
     "execution_count": 72,
     "metadata": {},
     "output_type": "execute_result"
    }
   ],
   "source": [
    "header_added = np.array([column_name + '_EUR' for column_name in header_num[column_dollar]])\n",
    "header_added"
   ]
  },
  {
   "cell_type": "code",
   "execution_count": 73,
   "id": "a0ad3cd7",
   "metadata": {},
   "outputs": [
    {
     "data": {
      "text/plain": [
       "array(['id', 'loan_amnt_USD', 'funded_amnt_USD', 'int_rate', 'installment_USD', 'total_pymnt_USD',\n",
       "       'exchange_rate'], dtype='<U19')"
      ]
     },
     "execution_count": 73,
     "metadata": {},
     "output_type": "execute_result"
    }
   ],
   "source": [
    "header_num[column_dollar] = np.array([column_name + '_USD' for column_name in header_num[column_dollar]])\n",
    "header_num"
   ]
  },
  {
   "cell_type": "code",
   "execution_count": 74,
   "id": "d5168e44",
   "metadata": {},
   "outputs": [
    {
     "data": {
      "text/plain": [
       "array(['id', 'loan_amnt_USD', 'funded_amnt_USD', 'int_rate', 'installment_USD', 'total_pymnt_USD',\n",
       "       'exchange_rate', 'loan_amnt_EUR', 'funded_amnt_EUR', 'installment_EUR', 'total_pymnt_EUR'],\n",
       "      dtype='<U19')"
      ]
     },
     "execution_count": 74,
     "metadata": {},
     "output_type": "execute_result"
    }
   ],
   "source": [
    "header_num = np.concatenate((header_num, header_added))\n",
    "header_num"
   ]
  },
  {
   "cell_type": "code",
   "execution_count": 75,
   "id": "14a6476a",
   "metadata": {},
   "outputs": [],
   "source": [
    "column_index_order = [0,1,7,2,8,3,4,9,5,10,6]"
   ]
  },
  {
   "cell_type": "code",
   "execution_count": 77,
   "id": "64db8af7",
   "metadata": {},
   "outputs": [],
   "source": [
    "header_num = header_num[column_index_order]"
   ]
  },
  {
   "cell_type": "code",
   "execution_count": 78,
   "id": "56a88d07",
   "metadata": {},
   "outputs": [],
   "source": [
    "loan_num_data = loan_num_data[:,column_index_order]"
   ]
  },
  {
   "cell_type": "code",
   "execution_count": 79,
   "id": "04ed64ce",
   "metadata": {},
   "outputs": [
    {
     "data": {
      "text/plain": [
       "array([0.13, 0.29, 0.29, ..., 0.29, 0.17, 0.29])"
      ]
     },
     "execution_count": 79,
     "metadata": {},
     "output_type": "execute_result"
    }
   ],
   "source": [
    "loan_num_data[:,5] = loan_num_data[:,5]/100\n",
    "loan_num_data[:,5]"
   ]
  },
  {
   "cell_type": "markdown",
   "id": "b0382a42",
   "metadata": {},
   "source": [
    "<h3>Checkpoint Numeric</h3>"
   ]
  },
  {
   "cell_type": "code",
   "execution_count": 80,
   "id": "0d812970",
   "metadata": {},
   "outputs": [
    {
     "data": {
      "text/plain": [
       "array(['id', 'loan_amnt_USD', 'loan_amnt_EUR', 'funded_amnt_USD', 'funded_amnt_EUR', 'int_rate',\n",
       "       'installment_USD', 'installment_EUR', 'total_pymnt_USD', 'total_pymnt_EUR', 'exchange_rate'],\n",
       "      dtype='<U19')"
      ]
     },
     "execution_count": 80,
     "metadata": {},
     "output_type": "execute_result"
    }
   ],
   "source": [
    "checkpoint_num = checkpoint('Checkpoint-Num', header_num, loan_num_data)\n",
    "checkpoint_num['header']"
   ]
  },
  {
   "cell_type": "markdown",
   "id": "f7f11725",
   "metadata": {},
   "source": [
    "<h3>Completing the dataset</h3>"
   ]
  },
  {
   "cell_type": "code",
   "execution_count": 81,
   "id": "6de7b347",
   "metadata": {},
   "outputs": [],
   "source": [
    "new_loan_data = np.hstack((checkpoint_num['data'], checkpoint_strings['data']))"
   ]
  },
  {
   "cell_type": "code",
   "execution_count": 82,
   "id": "17282cb1",
   "metadata": {},
   "outputs": [
    {
     "data": {
      "text/plain": [
       "(10000, 17)"
      ]
     },
     "execution_count": 82,
     "metadata": {},
     "output_type": "execute_result"
    }
   ],
   "source": [
    "new_loan_data.shape"
   ]
  },
  {
   "cell_type": "code",
   "execution_count": 83,
   "id": "ac2be167",
   "metadata": {},
   "outputs": [
    {
     "data": {
      "text/plain": [
       "array(['id', 'loan_amnt_USD', 'loan_amnt_EUR', 'funded_amnt_USD', 'funded_amnt_EUR', 'int_rate',\n",
       "       'installment_USD', 'installment_EUR', 'total_pymnt_USD', 'total_pymnt_EUR', 'exchange_rate',\n",
       "       'issue_date', 'loan_status', 'term_months', 'sub_grade', 'verification_status',\n",
       "       'addr_state'], dtype='<U19')"
      ]
     },
     "execution_count": 83,
     "metadata": {},
     "output_type": "execute_result"
    }
   ],
   "source": [
    "header_full = np.hstack((checkpoint_num['header'], checkpoint_strings['header']))\n",
    "header_full"
   ]
  },
  {
   "cell_type": "code",
   "execution_count": 85,
   "id": "055457a7",
   "metadata": {},
   "outputs": [],
   "source": [
    "new_loan_data = new_loan_data[np.argsort(new_loan_data[:,0])]"
   ]
  },
  {
   "cell_type": "code",
   "execution_count": 86,
   "id": "846281e2",
   "metadata": {},
   "outputs": [
    {
     "data": {
      "text/plain": [
       "array([   0,    1,    2, ..., 9997, 9998, 9999])"
      ]
     },
     "execution_count": 86,
     "metadata": {},
     "output_type": "execute_result"
    }
   ],
   "source": [
    "np.argsort(new_loan_data[:,0])"
   ]
  },
  {
   "cell_type": "code",
   "execution_count": 89,
   "id": "475a48d5",
   "metadata": {},
   "outputs": [],
   "source": [
    "new_loan_data = np.vstack((header_full, new_loan_data))"
   ]
  },
  {
   "cell_type": "code",
   "execution_count": 91,
   "id": "5986a145",
   "metadata": {},
   "outputs": [],
   "source": [
    "np.savetxt('loan-data-preprocessed.csv',new_loan_data, delimiter=',', fmt='%s')"
   ]
  },
  {
   "cell_type": "code",
   "execution_count": null,
   "id": "6a71ada8",
   "metadata": {},
   "outputs": [],
   "source": []
  },
  {
   "cell_type": "code",
   "execution_count": null,
   "id": "43033203",
   "metadata": {},
   "outputs": [],
   "source": []
  },
  {
   "cell_type": "code",
   "execution_count": null,
   "id": "796138d2",
   "metadata": {},
   "outputs": [],
   "source": []
  }
 ],
 "metadata": {
  "kernelspec": {
   "display_name": "Python 3 (ipykernel)",
   "language": "python",
   "name": "python3"
  },
  "language_info": {
   "codemirror_mode": {
    "name": "ipython",
    "version": 3
   },
   "file_extension": ".py",
   "mimetype": "text/x-python",
   "name": "python",
   "nbconvert_exporter": "python",
   "pygments_lexer": "ipython3",
   "version": "3.9.7"
  }
 },
 "nbformat": 4,
 "nbformat_minor": 5
}
