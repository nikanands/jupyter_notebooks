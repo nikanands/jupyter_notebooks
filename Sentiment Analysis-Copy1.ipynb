{
 "cells": [
  {
   "cell_type": "markdown",
   "id": "c7bad472",
   "metadata": {},
   "source": [
    "# Importing Basic Libraries"
   ]
  },
  {
   "cell_type": "code",
   "execution_count": 1,
   "id": "ce1646d5",
   "metadata": {},
   "outputs": [],
   "source": [
    "import numpy as np\n",
    "import pandas as pd"
   ]
  },
  {
   "cell_type": "markdown",
   "id": "9187b3dc",
   "metadata": {},
   "source": [
    "# Importing Data"
   ]
  },
  {
   "cell_type": "code",
   "execution_count": 2,
   "id": "ae482410",
   "metadata": {},
   "outputs": [],
   "source": [
    "raw_text = pd.read_csv('movie.csv')\n",
    "# raw_text['text'][0:500].shape"
   ]
  },
  {
   "cell_type": "markdown",
   "id": "38e8922a",
   "metadata": {},
   "source": [
    "## Cleaning Data for Use"
   ]
  },
  {
   "cell_type": "code",
   "execution_count": 3,
   "id": "5fe8d90e",
   "metadata": {},
   "outputs": [],
   "source": [
    "raw_text = raw_text.drop('label', axis=1)"
   ]
  },
  {
   "cell_type": "code",
   "execution_count": 4,
   "id": "807d12bb",
   "metadata": {
    "scrolled": true
   },
   "outputs": [
    {
     "data": {
      "text/plain": [
       "0    I grew up (b. 1965) watching and loving the Th...\n",
       "1    When I put this movie in my DVD player, and sa...\n",
       "2    Why do people who do not know what a particula...\n",
       "3    Even though I have great interest in Biblical ...\n",
       "4    Im a die hard Dads Army fan and nothing will e...\n",
       "Name: text, dtype: object"
      ]
     },
     "execution_count": 4,
     "metadata": {},
     "output_type": "execute_result"
    }
   ],
   "source": [
    "raw_text = raw_text['text'][0:5]\n",
    "raw_text"
   ]
  },
  {
   "cell_type": "markdown",
   "id": "08dc0c91",
   "metadata": {},
   "source": [
    "## Converting Into Lower Case and Saving as List"
   ]
  },
  {
   "cell_type": "code",
   "execution_count": 5,
   "id": "a88de483",
   "metadata": {},
   "outputs": [],
   "source": [
    "data = []\n",
    "def to_lower_case(raw_text):\n",
    "   \n",
    "    for i in range(len(raw_text)):\n",
    "        data.append(str.lower(raw_text[i]))"
   ]
  },
  {
   "cell_type": "code",
   "execution_count": 6,
   "id": "e6a0207d",
   "metadata": {
    "scrolled": true
   },
   "outputs": [
    {
     "data": {
      "text/plain": [
       "['i grew up (b. 1965) watching and loving the thunderbirds. all my mates at school watched. we played \"thunderbirds\" before school, during lunch and after school. we all wanted to be virgil or scott. no one wanted to be alan. counting down from 5 became an art form. i took my children to see the movie hoping they would get a glimpse of what i loved as a child. how bitterly disappointing. the only high point was the snappy theme tune. not that it could compare with the original score of the thunderbirds. thankfully early saturday mornings one television channel still plays reruns of the series gerry anderson and his wife created. jonatha frakes should hand in his directors chair, his version was completely hopeless. a waste of film. utter rubbish. a cgi remake may be acceptable but replacing marionettes with homo sapiens subsp. sapiens was a huge error of judgment.',\n",
       " \"when i put this movie in my dvd player, and sat down with a coke and some chips, i had some expectations. i was hoping that this movie would contain some of the strong-points of the first movie: awsome animation, good flowing story, excellent voice cast, funny comedy and a kick-ass soundtrack. but, to my disappointment, not any of this is to be found in atlantis: milo's return. had i read some reviews first, i might not have been so let down. the following paragraph will be directed to those who have seen the first movie, and who enjoyed it primarily for the points mentioned.<br /><br />when the first scene appears, your in for a shock if you just picked atlantis: milo's return from the display-case at your local videoshop (or whatever), and had the expectations i had. the music feels as a bad imitation of the first movie, and the voice cast has been replaced by a not so fitting one. (with the exception of a few characters, like the voice of sweet). the actual drawings isnt that bad, but the animation in particular is a sad sight. the storyline is also pretty weak, as its more like three episodes of schooby-doo than the single adventurous story we got the last time. but dont misunderstand, it's not very good schooby-doo episodes. i didnt laugh a single time, although i might have sniggered once or twice.<br /><br />to the audience who haven't seen the first movie, or don't especially care for a similar sequel, here is a fast review of this movie as a stand-alone product: if you liked schooby-doo, you might like this movie. if you didn't, you could still enjoy this movie if you have nothing else to do. and i suspect it might be a good kids movie, but i wouldn't know. it might have been better if milo's return had been a three-episode series on a cartoon channel, or on breakfast tv.\",\n",
       " 'why do people who do not know what a particular time in the past was like feel the need to try to define that time for others? replace woodstock with the civil war and the apollo moon-landing with the titanic sinking and you\\'ve got as realistic a flick as this formulaic soap opera populated entirely by low-life trash. is this what kids who were too young to be allowed to go to woodstock and who failed grade school composition do? \"i\\'ll show those old meanies, i\\'ll put out my own movie and prove that you don\\'t have to know nuttin about your topic to still make money!\" yeah, we already know that. the one thing watching this film did for me was to give me a little insight into underclass thinking. the next time i see a slut in a bar who looks like diane lane, i\\'m running the other way. it\\'s child abuse to let parents that worthless raise kids. it\\'s audience abuse to simply stick woodstock and the moonlanding into a flick as if that ipso facto means the film portrays 1969.',\n",
       " 'even though i have great interest in biblical movies, i was bored to death every minute of the movie. everything is bad. the movie is too long, the acting is most of the time a joke and the script is horrible. i did not get the point in mixing the story about abraham and noah together. so if you value your time and sanity stay away from this horror.',\n",
       " 'im a die hard dads army fan and nothing will ever change that. i got all the tapes, dvd\\'s and audiobooks and every time i watch/listen to them its brand new. <br /><br />the film. the film is a re run of certain episodes, man and the hour, enemy within the gates, battle school and numerous others with a different edge. introduction of a new general instead of captain square was a brilliant move - especially when he wouldn\\'t cash the cheque (something that is rarely done now).<br /><br />it follows through the early years of getting equipment and uniforms, starting up and training. all in all, its a great film for a boring sunday afternoon. <br /><br />two draw backs. one is the germans bogus dodgy accents (come one, germans cant pronounced the letter \"w\" like us) and two the casting of liz frazer instead of the familiar janet davis. i like liz in other films like the carry ons but she doesn\\'t carry it correctly in this and janet davis would have been the better choice.']"
      ]
     },
     "execution_count": 6,
     "metadata": {},
     "output_type": "execute_result"
    }
   ],
   "source": [
    "to_lower_case(raw_text)\n",
    "data"
   ]
  },
  {
   "cell_type": "markdown",
   "id": "f9ded249",
   "metadata": {},
   "source": [
    "## Impoprting NLTK and Other Modules"
   ]
  },
  {
   "cell_type": "code",
   "execution_count": 7,
   "id": "89986364",
   "metadata": {},
   "outputs": [
    {
     "name": "stderr",
     "output_type": "stream",
     "text": [
      "[nltk_data] Downloading package punkt to /Users/nikhil/nltk_data...\n",
      "[nltk_data]   Package punkt is already up-to-date!\n"
     ]
    },
    {
     "data": {
      "text/plain": [
       "True"
      ]
     },
     "execution_count": 7,
     "metadata": {},
     "output_type": "execute_result"
    }
   ],
   "source": [
    "from nltk.tokenize import sent_tokenize, word_tokenize\n",
    "\n",
    "import nltk\n",
    "nltk.download('punkt')"
   ]
  },
  {
   "cell_type": "markdown",
   "id": "8ce75a27",
   "metadata": {},
   "source": [
    "## Tokenizing Sentences"
   ]
  },
  {
   "cell_type": "code",
   "execution_count": 8,
   "id": "ede8330c",
   "metadata": {},
   "outputs": [],
   "source": [
    "tokenized_sent = []\n",
    "for sentence in data:\n",
    "    sent = sent_tokenize(sentence)\n",
    "    tokenized_sent.append(sent)"
   ]
  },
  {
   "cell_type": "code",
   "execution_count": 9,
   "id": "a58cdcba",
   "metadata": {},
   "outputs": [
    {
     "data": {
      "text/plain": [
       "[['i grew up (b.',\n",
       "  '1965) watching and loving the thunderbirds.',\n",
       "  'all my mates at school watched.',\n",
       "  'we played \"thunderbirds\" before school, during lunch and after school.',\n",
       "  'we all wanted to be virgil or scott.',\n",
       "  'no one wanted to be alan.',\n",
       "  'counting down from 5 became an art form.',\n",
       "  'i took my children to see the movie hoping they would get a glimpse of what i loved as a child.',\n",
       "  'how bitterly disappointing.',\n",
       "  'the only high point was the snappy theme tune.',\n",
       "  'not that it could compare with the original score of the thunderbirds.',\n",
       "  'thankfully early saturday mornings one television channel still plays reruns of the series gerry anderson and his wife created.',\n",
       "  'jonatha frakes should hand in his directors chair, his version was completely hopeless.',\n",
       "  'a waste of film.',\n",
       "  'utter rubbish.',\n",
       "  'a cgi remake may be acceptable but replacing marionettes with homo sapiens subsp.',\n",
       "  'sapiens was a huge error of judgment.'],\n",
       " ['when i put this movie in my dvd player, and sat down with a coke and some chips, i had some expectations.',\n",
       "  'i was hoping that this movie would contain some of the strong-points of the first movie: awsome animation, good flowing story, excellent voice cast, funny comedy and a kick-ass soundtrack.',\n",
       "  \"but, to my disappointment, not any of this is to be found in atlantis: milo's return.\",\n",
       "  'had i read some reviews first, i might not have been so let down.',\n",
       "  \"the following paragraph will be directed to those who have seen the first movie, and who enjoyed it primarily for the points mentioned.<br /><br />when the first scene appears, your in for a shock if you just picked atlantis: milo's return from the display-case at your local videoshop (or whatever), and had the expectations i had.\",\n",
       "  'the music feels as a bad imitation of the first movie, and the voice cast has been replaced by a not so fitting one.',\n",
       "  '(with the exception of a few characters, like the voice of sweet).',\n",
       "  'the actual drawings isnt that bad, but the animation in particular is a sad sight.',\n",
       "  'the storyline is also pretty weak, as its more like three episodes of schooby-doo than the single adventurous story we got the last time.',\n",
       "  \"but dont misunderstand, it's not very good schooby-doo episodes.\",\n",
       "  \"i didnt laugh a single time, although i might have sniggered once or twice.<br /><br />to the audience who haven't seen the first movie, or don't especially care for a similar sequel, here is a fast review of this movie as a stand-alone product: if you liked schooby-doo, you might like this movie.\",\n",
       "  \"if you didn't, you could still enjoy this movie if you have nothing else to do.\",\n",
       "  \"and i suspect it might be a good kids movie, but i wouldn't know.\",\n",
       "  \"it might have been better if milo's return had been a three-episode series on a cartoon channel, or on breakfast tv.\"],\n",
       " ['why do people who do not know what a particular time in the past was like feel the need to try to define that time for others?',\n",
       "  \"replace woodstock with the civil war and the apollo moon-landing with the titanic sinking and you've got as realistic a flick as this formulaic soap opera populated entirely by low-life trash.\",\n",
       "  'is this what kids who were too young to be allowed to go to woodstock and who failed grade school composition do?',\n",
       "  '\"i\\'ll show those old meanies, i\\'ll put out my own movie and prove that you don\\'t have to know nuttin about your topic to still make money!\"',\n",
       "  'yeah, we already know that.',\n",
       "  'the one thing watching this film did for me was to give me a little insight into underclass thinking.',\n",
       "  \"the next time i see a slut in a bar who looks like diane lane, i'm running the other way.\",\n",
       "  \"it's child abuse to let parents that worthless raise kids.\",\n",
       "  \"it's audience abuse to simply stick woodstock and the moonlanding into a flick as if that ipso facto means the film portrays 1969.\"],\n",
       " ['even though i have great interest in biblical movies, i was bored to death every minute of the movie.',\n",
       "  'everything is bad.',\n",
       "  'the movie is too long, the acting is most of the time a joke and the script is horrible.',\n",
       "  'i did not get the point in mixing the story about abraham and noah together.',\n",
       "  'so if you value your time and sanity stay away from this horror.'],\n",
       " ['im a die hard dads army fan and nothing will ever change that.',\n",
       "  \"i got all the tapes, dvd's and audiobooks and every time i watch/listen to them its brand new.\",\n",
       "  '<br /><br />the film.',\n",
       "  'the film is a re run of certain episodes, man and the hour, enemy within the gates, battle school and numerous others with a different edge.',\n",
       "  \"introduction of a new general instead of captain square was a brilliant move - especially when he wouldn't cash the cheque (something that is rarely done now).<br /><br />it follows through the early years of getting equipment and uniforms, starting up and training.\",\n",
       "  'all in all, its a great film for a boring sunday afternoon.',\n",
       "  '<br /><br />two draw backs.',\n",
       "  'one is the germans bogus dodgy accents (come one, germans cant pronounced the letter \"w\" like us) and two the casting of liz frazer instead of the familiar janet davis.',\n",
       "  \"i like liz in other films like the carry ons but she doesn't carry it correctly in this and janet davis would have been the better choice.\"]]"
      ]
     },
     "execution_count": 9,
     "metadata": {},
     "output_type": "execute_result"
    }
   ],
   "source": [
    "tokenized_sent"
   ]
  },
  {
   "cell_type": "code",
   "execution_count": 24,
   "id": "980893e8-68b2-483f-8d9a-cbb024b97656",
   "metadata": {},
   "outputs": [
    {
     "data": {
      "text/plain": [
       "5"
      ]
     },
     "execution_count": 24,
     "metadata": {},
     "output_type": "execute_result"
    }
   ],
   "source": [
    "len(tokenized_sent)"
   ]
  },
  {
   "cell_type": "markdown",
   "id": "d8e769fb",
   "metadata": {},
   "source": [
    "## Tokenizing Words"
   ]
  },
  {
   "cell_type": "code",
   "execution_count": 10,
   "id": "0b9c5f9e",
   "metadata": {},
   "outputs": [],
   "source": [
    "tokenized_words = []\n",
    "for words in data:\n",
    "    word = word_tokenize(words)\n",
    "    tokenized_words.append(word)"
   ]
  },
  {
   "cell_type": "code",
   "execution_count": 25,
   "id": "afea9add",
   "metadata": {
    "tags": []
   },
   "outputs": [
    {
     "data": {
      "text/plain": [
       "5"
      ]
     },
     "execution_count": 25,
     "metadata": {},
     "output_type": "execute_result"
    }
   ],
   "source": [
    "len(tokenized_words)"
   ]
  },
  {
   "cell_type": "markdown",
   "id": "b2c487e1",
   "metadata": {},
   "source": [
    "## Importing Regular Expression and Removing special characters"
   ]
  },
  {
   "cell_type": "code",
   "execution_count": 27,
   "id": "de805e1a",
   "metadata": {
    "tags": []
   },
   "outputs": [],
   "source": [
    "import regex\n",
    "\n",
    "cleaned_sp_char = []\n",
    "\n",
    "for words in tokenized_words:\n",
    "    clean = []\n",
    "    for w in words:\n",
    "        reg = regex.sub(r'[^\\w\\s]' ,\"\", w)\n",
    "        if reg != \"\":\n",
    "            clean.append(reg)\n",
    "    cleaned_sp_char.append(clean)"
   ]
  },
  {
   "cell_type": "code",
   "execution_count": 28,
   "id": "a77d20cb",
   "metadata": {
    "scrolled": true,
    "tags": []
   },
   "outputs": [
    {
     "data": {
      "text/plain": [
       "5"
      ]
     },
     "execution_count": 28,
     "metadata": {},
     "output_type": "execute_result"
    }
   ],
   "source": [
    "len(cleaned_sp_char)"
   ]
  },
  {
   "cell_type": "markdown",
   "id": "6df0abb5",
   "metadata": {},
   "source": [
    "## Downloading Stopwords"
   ]
  },
  {
   "cell_type": "code",
   "execution_count": 14,
   "id": "523c3119",
   "metadata": {
    "tags": []
   },
   "outputs": [
    {
     "name": "stderr",
     "output_type": "stream",
     "text": [
      "[nltk_data] Downloading package stopwords to\n",
      "[nltk_data]     /Users/nikhil/nltk_data...\n",
      "[nltk_data]   Package stopwords is already up-to-date!\n"
     ]
    },
    {
     "data": {
      "text/plain": [
       "True"
      ]
     },
     "execution_count": 14,
     "metadata": {},
     "output_type": "execute_result"
    }
   ],
   "source": [
    "from nltk.corpus import stopwords\n",
    "\n",
    "import nltk\n",
    "nltk.download('stopwords')"
   ]
  },
  {
   "cell_type": "markdown",
   "id": "e9fd6387",
   "metadata": {},
   "source": [
    "## Removing Stopwords"
   ]
  },
  {
   "cell_type": "code",
   "execution_count": 31,
   "id": "51fc6527",
   "metadata": {},
   "outputs": [],
   "source": [
    "cleared_stopwords = []\n",
    "\n",
    "for words in cleaned_sp_char:\n",
    "    w = []\n",
    "    for word in words:\n",
    "        if not word in stopwords.words('english'):\n",
    "            w.append(word)\n",
    "    cleared_stopwords.append(w)"
   ]
  },
  {
   "cell_type": "code",
   "execution_count": 32,
   "id": "df98b93e",
   "metadata": {
    "collapsed": true,
    "jupyter": {
     "outputs_hidden": true
    },
    "tags": []
   },
   "outputs": [
    {
     "data": {
      "text/plain": [
       "[['grew',\n",
       "  'b',\n",
       "  '1965',\n",
       "  'watching',\n",
       "  'loving',\n",
       "  'thunderbirds',\n",
       "  'mates',\n",
       "  'school',\n",
       "  'watched',\n",
       "  'played',\n",
       "  'thunderbirds',\n",
       "  'school',\n",
       "  'lunch',\n",
       "  'school',\n",
       "  'wanted',\n",
       "  'virgil',\n",
       "  'scott',\n",
       "  'one',\n",
       "  'wanted',\n",
       "  'alan',\n",
       "  'counting',\n",
       "  '5',\n",
       "  'became',\n",
       "  'art',\n",
       "  'form',\n",
       "  'took',\n",
       "  'children',\n",
       "  'see',\n",
       "  'movie',\n",
       "  'hoping',\n",
       "  'would',\n",
       "  'get',\n",
       "  'glimpse',\n",
       "  'loved',\n",
       "  'child',\n",
       "  'bitterly',\n",
       "  'disappointing',\n",
       "  'high',\n",
       "  'point',\n",
       "  'snappy',\n",
       "  'theme',\n",
       "  'tune',\n",
       "  'could',\n",
       "  'compare',\n",
       "  'original',\n",
       "  'score',\n",
       "  'thunderbirds',\n",
       "  'thankfully',\n",
       "  'early',\n",
       "  'saturday',\n",
       "  'mornings',\n",
       "  'one',\n",
       "  'television',\n",
       "  'channel',\n",
       "  'still',\n",
       "  'plays',\n",
       "  'reruns',\n",
       "  'series',\n",
       "  'gerry',\n",
       "  'anderson',\n",
       "  'wife',\n",
       "  'created',\n",
       "  'jonatha',\n",
       "  'frakes',\n",
       "  'hand',\n",
       "  'directors',\n",
       "  'chair',\n",
       "  'version',\n",
       "  'completely',\n",
       "  'hopeless',\n",
       "  'waste',\n",
       "  'film',\n",
       "  'utter',\n",
       "  'rubbish',\n",
       "  'cgi',\n",
       "  'remake',\n",
       "  'may',\n",
       "  'acceptable',\n",
       "  'replacing',\n",
       "  'marionettes',\n",
       "  'homo',\n",
       "  'sapiens',\n",
       "  'subsp',\n",
       "  'sapiens',\n",
       "  'huge',\n",
       "  'error',\n",
       "  'judgment'],\n",
       " ['put',\n",
       "  'movie',\n",
       "  'dvd',\n",
       "  'player',\n",
       "  'sat',\n",
       "  'coke',\n",
       "  'chips',\n",
       "  'expectations',\n",
       "  'hoping',\n",
       "  'movie',\n",
       "  'would',\n",
       "  'contain',\n",
       "  'strongpoints',\n",
       "  'first',\n",
       "  'movie',\n",
       "  'awsome',\n",
       "  'animation',\n",
       "  'good',\n",
       "  'flowing',\n",
       "  'story',\n",
       "  'excellent',\n",
       "  'voice',\n",
       "  'cast',\n",
       "  'funny',\n",
       "  'comedy',\n",
       "  'kickass',\n",
       "  'soundtrack',\n",
       "  'disappointment',\n",
       "  'found',\n",
       "  'atlantis',\n",
       "  'milo',\n",
       "  'return',\n",
       "  'read',\n",
       "  'reviews',\n",
       "  'first',\n",
       "  'might',\n",
       "  'let',\n",
       "  'following',\n",
       "  'paragraph',\n",
       "  'directed',\n",
       "  'seen',\n",
       "  'first',\n",
       "  'movie',\n",
       "  'enjoyed',\n",
       "  'primarily',\n",
       "  'points',\n",
       "  'mentioned',\n",
       "  'br',\n",
       "  'br',\n",
       "  'first',\n",
       "  'scene',\n",
       "  'appears',\n",
       "  'shock',\n",
       "  'picked',\n",
       "  'atlantis',\n",
       "  'milo',\n",
       "  'return',\n",
       "  'displaycase',\n",
       "  'local',\n",
       "  'videoshop',\n",
       "  'whatever',\n",
       "  'expectations',\n",
       "  'music',\n",
       "  'feels',\n",
       "  'bad',\n",
       "  'imitation',\n",
       "  'first',\n",
       "  'movie',\n",
       "  'voice',\n",
       "  'cast',\n",
       "  'replaced',\n",
       "  'fitting',\n",
       "  'one',\n",
       "  'exception',\n",
       "  'characters',\n",
       "  'like',\n",
       "  'voice',\n",
       "  'sweet',\n",
       "  'actual',\n",
       "  'drawings',\n",
       "  'isnt',\n",
       "  'bad',\n",
       "  'animation',\n",
       "  'particular',\n",
       "  'sad',\n",
       "  'sight',\n",
       "  'storyline',\n",
       "  'also',\n",
       "  'pretty',\n",
       "  'weak',\n",
       "  'like',\n",
       "  'three',\n",
       "  'episodes',\n",
       "  'schoobydoo',\n",
       "  'single',\n",
       "  'adventurous',\n",
       "  'story',\n",
       "  'got',\n",
       "  'last',\n",
       "  'time',\n",
       "  'dont',\n",
       "  'misunderstand',\n",
       "  'good',\n",
       "  'schoobydoo',\n",
       "  'episodes',\n",
       "  'didnt',\n",
       "  'laugh',\n",
       "  'single',\n",
       "  'time',\n",
       "  'although',\n",
       "  'might',\n",
       "  'sniggered',\n",
       "  'twice',\n",
       "  'br',\n",
       "  'br',\n",
       "  'audience',\n",
       "  'nt',\n",
       "  'seen',\n",
       "  'first',\n",
       "  'movie',\n",
       "  'nt',\n",
       "  'especially',\n",
       "  'care',\n",
       "  'similar',\n",
       "  'sequel',\n",
       "  'fast',\n",
       "  'review',\n",
       "  'movie',\n",
       "  'standalone',\n",
       "  'product',\n",
       "  'liked',\n",
       "  'schoobydoo',\n",
       "  'might',\n",
       "  'like',\n",
       "  'movie',\n",
       "  'nt',\n",
       "  'could',\n",
       "  'still',\n",
       "  'enjoy',\n",
       "  'movie',\n",
       "  'nothing',\n",
       "  'else',\n",
       "  'suspect',\n",
       "  'might',\n",
       "  'good',\n",
       "  'kids',\n",
       "  'movie',\n",
       "  'would',\n",
       "  'nt',\n",
       "  'know',\n",
       "  'might',\n",
       "  'better',\n",
       "  'milo',\n",
       "  'return',\n",
       "  'threeepisode',\n",
       "  'series',\n",
       "  'cartoon',\n",
       "  'channel',\n",
       "  'breakfast',\n",
       "  'tv'],\n",
       " ['people',\n",
       "  'know',\n",
       "  'particular',\n",
       "  'time',\n",
       "  'past',\n",
       "  'like',\n",
       "  'feel',\n",
       "  'need',\n",
       "  'try',\n",
       "  'define',\n",
       "  'time',\n",
       "  'others',\n",
       "  'replace',\n",
       "  'woodstock',\n",
       "  'civil',\n",
       "  'war',\n",
       "  'apollo',\n",
       "  'moonlanding',\n",
       "  'titanic',\n",
       "  'sinking',\n",
       "  'got',\n",
       "  'realistic',\n",
       "  'flick',\n",
       "  'formulaic',\n",
       "  'soap',\n",
       "  'opera',\n",
       "  'populated',\n",
       "  'entirely',\n",
       "  'lowlife',\n",
       "  'trash',\n",
       "  'kids',\n",
       "  'young',\n",
       "  'allowed',\n",
       "  'go',\n",
       "  'woodstock',\n",
       "  'failed',\n",
       "  'grade',\n",
       "  'school',\n",
       "  'composition',\n",
       "  'show',\n",
       "  'old',\n",
       "  'meanies',\n",
       "  'put',\n",
       "  'movie',\n",
       "  'prove',\n",
       "  'nt',\n",
       "  'know',\n",
       "  'nuttin',\n",
       "  'topic',\n",
       "  'still',\n",
       "  'make',\n",
       "  'money',\n",
       "  'yeah',\n",
       "  'already',\n",
       "  'know',\n",
       "  'one',\n",
       "  'thing',\n",
       "  'watching',\n",
       "  'film',\n",
       "  'give',\n",
       "  'little',\n",
       "  'insight',\n",
       "  'underclass',\n",
       "  'thinking',\n",
       "  'next',\n",
       "  'time',\n",
       "  'see',\n",
       "  'slut',\n",
       "  'bar',\n",
       "  'looks',\n",
       "  'like',\n",
       "  'diane',\n",
       "  'lane',\n",
       "  'running',\n",
       "  'way',\n",
       "  'child',\n",
       "  'abuse',\n",
       "  'let',\n",
       "  'parents',\n",
       "  'worthless',\n",
       "  'raise',\n",
       "  'kids',\n",
       "  'audience',\n",
       "  'abuse',\n",
       "  'simply',\n",
       "  'stick',\n",
       "  'woodstock',\n",
       "  'moonlanding',\n",
       "  'flick',\n",
       "  'ipso',\n",
       "  'facto',\n",
       "  'means',\n",
       "  'film',\n",
       "  'portrays',\n",
       "  '1969'],\n",
       " ['even',\n",
       "  'though',\n",
       "  'great',\n",
       "  'interest',\n",
       "  'biblical',\n",
       "  'movies',\n",
       "  'bored',\n",
       "  'death',\n",
       "  'every',\n",
       "  'minute',\n",
       "  'movie',\n",
       "  'everything',\n",
       "  'bad',\n",
       "  'movie',\n",
       "  'long',\n",
       "  'acting',\n",
       "  'time',\n",
       "  'joke',\n",
       "  'script',\n",
       "  'horrible',\n",
       "  'get',\n",
       "  'point',\n",
       "  'mixing',\n",
       "  'story',\n",
       "  'abraham',\n",
       "  'noah',\n",
       "  'together',\n",
       "  'value',\n",
       "  'time',\n",
       "  'sanity',\n",
       "  'stay',\n",
       "  'away',\n",
       "  'horror'],\n",
       " ['im',\n",
       "  'die',\n",
       "  'hard',\n",
       "  'dads',\n",
       "  'army',\n",
       "  'fan',\n",
       "  'nothing',\n",
       "  'ever',\n",
       "  'change',\n",
       "  'got',\n",
       "  'tapes',\n",
       "  'dvd',\n",
       "  'audiobooks',\n",
       "  'every',\n",
       "  'time',\n",
       "  'watchlisten',\n",
       "  'brand',\n",
       "  'new',\n",
       "  'br',\n",
       "  'br',\n",
       "  'film',\n",
       "  'film',\n",
       "  'run',\n",
       "  'certain',\n",
       "  'episodes',\n",
       "  'man',\n",
       "  'hour',\n",
       "  'enemy',\n",
       "  'within',\n",
       "  'gates',\n",
       "  'battle',\n",
       "  'school',\n",
       "  'numerous',\n",
       "  'others',\n",
       "  'different',\n",
       "  'edge',\n",
       "  'introduction',\n",
       "  'new',\n",
       "  'general',\n",
       "  'instead',\n",
       "  'captain',\n",
       "  'square',\n",
       "  'brilliant',\n",
       "  'move',\n",
       "  'especially',\n",
       "  'would',\n",
       "  'nt',\n",
       "  'cash',\n",
       "  'cheque',\n",
       "  'something',\n",
       "  'rarely',\n",
       "  'done',\n",
       "  'br',\n",
       "  'br',\n",
       "  'follows',\n",
       "  'early',\n",
       "  'years',\n",
       "  'getting',\n",
       "  'equipment',\n",
       "  'uniforms',\n",
       "  'starting',\n",
       "  'training',\n",
       "  'great',\n",
       "  'film',\n",
       "  'boring',\n",
       "  'sunday',\n",
       "  'afternoon',\n",
       "  'br',\n",
       "  'br',\n",
       "  'two',\n",
       "  'draw',\n",
       "  'backs',\n",
       "  'one',\n",
       "  'germans',\n",
       "  'bogus',\n",
       "  'dodgy',\n",
       "  'accents',\n",
       "  'come',\n",
       "  'one',\n",
       "  'germans',\n",
       "  'cant',\n",
       "  'pronounced',\n",
       "  'letter',\n",
       "  'w',\n",
       "  'like',\n",
       "  'us',\n",
       "  'two',\n",
       "  'casting',\n",
       "  'liz',\n",
       "  'frazer',\n",
       "  'instead',\n",
       "  'familiar',\n",
       "  'janet',\n",
       "  'davis',\n",
       "  'like',\n",
       "  'liz',\n",
       "  'films',\n",
       "  'like',\n",
       "  'carry',\n",
       "  'ons',\n",
       "  'nt',\n",
       "  'carry',\n",
       "  'correctly',\n",
       "  'janet',\n",
       "  'davis',\n",
       "  'would',\n",
       "  'better',\n",
       "  'choice']]"
      ]
     },
     "execution_count": 32,
     "metadata": {},
     "output_type": "execute_result"
    }
   ],
   "source": [
    "cleared_stopwords"
   ]
  },
  {
   "cell_type": "code",
   "execution_count": 33,
   "id": "af2652f1",
   "metadata": {},
   "outputs": [
    {
     "name": "stderr",
     "output_type": "stream",
     "text": [
      "[nltk_data] Downloading package vader_lexicon to\n",
      "[nltk_data]     /Users/nikhil/nltk_data...\n",
      "[nltk_data]   Package vader_lexicon is already up-to-date!\n"
     ]
    },
    {
     "data": {
      "text/plain": [
       "True"
      ]
     },
     "execution_count": 33,
     "metadata": {},
     "output_type": "execute_result"
    }
   ],
   "source": [
    "from nltk.sentiment.vader import SentimentIntensityAnalyzer\n",
    "\n",
    "import nltk\n",
    "nltk.download('vader_lexicon')"
   ]
  },
  {
   "cell_type": "code",
   "execution_count": 38,
   "id": "61ff6c5b",
   "metadata": {
    "scrolled": true,
    "tags": []
   },
   "outputs": [],
   "source": [
    "clean_sentence = []\n",
    "for i in range(5):\n",
    "#     clean_sent = \n",
    "    clean_sentence.append(\" \".join(cleared_stopwords[i]))"
   ]
  },
  {
   "cell_type": "code",
   "execution_count": 39,
   "id": "995027ba",
   "metadata": {
    "collapsed": true,
    "jupyter": {
     "outputs_hidden": true
    },
    "tags": []
   },
   "outputs": [
    {
     "data": {
      "text/plain": [
       "['grew b 1965 watching loving thunderbirds mates school watched played thunderbirds school lunch school wanted virgil scott one wanted alan counting 5 became art form took children see movie hoping would get glimpse loved child bitterly disappointing high point snappy theme tune could compare original score thunderbirds thankfully early saturday mornings one television channel still plays reruns series gerry anderson wife created jonatha frakes hand directors chair version completely hopeless waste film utter rubbish cgi remake may acceptable replacing marionettes homo sapiens subsp sapiens huge error judgment',\n",
       " 'put movie dvd player sat coke chips expectations hoping movie would contain strongpoints first movie awsome animation good flowing story excellent voice cast funny comedy kickass soundtrack disappointment found atlantis milo return read reviews first might let following paragraph directed seen first movie enjoyed primarily points mentioned br br first scene appears shock picked atlantis milo return displaycase local videoshop whatever expectations music feels bad imitation first movie voice cast replaced fitting one exception characters like voice sweet actual drawings isnt bad animation particular sad sight storyline also pretty weak like three episodes schoobydoo single adventurous story got last time dont misunderstand good schoobydoo episodes didnt laugh single time although might sniggered twice br br audience nt seen first movie nt especially care similar sequel fast review movie standalone product liked schoobydoo might like movie nt could still enjoy movie nothing else suspect might good kids movie would nt know might better milo return threeepisode series cartoon channel breakfast tv',\n",
       " 'people know particular time past like feel need try define time others replace woodstock civil war apollo moonlanding titanic sinking got realistic flick formulaic soap opera populated entirely lowlife trash kids young allowed go woodstock failed grade school composition show old meanies put movie prove nt know nuttin topic still make money yeah already know one thing watching film give little insight underclass thinking next time see slut bar looks like diane lane running way child abuse let parents worthless raise kids audience abuse simply stick woodstock moonlanding flick ipso facto means film portrays 1969',\n",
       " 'even though great interest biblical movies bored death every minute movie everything bad movie long acting time joke script horrible get point mixing story abraham noah together value time sanity stay away horror',\n",
       " 'im die hard dads army fan nothing ever change got tapes dvd audiobooks every time watchlisten brand new br br film film run certain episodes man hour enemy within gates battle school numerous others different edge introduction new general instead captain square brilliant move especially would nt cash cheque something rarely done br br follows early years getting equipment uniforms starting training great film boring sunday afternoon br br two draw backs one germans bogus dodgy accents come one germans cant pronounced letter w like us two casting liz frazer instead familiar janet davis like liz films like carry ons nt carry correctly janet davis would better choice']"
      ]
     },
     "execution_count": 39,
     "metadata": {},
     "output_type": "execute_result"
    }
   ],
   "source": [
    "clean_sentence"
   ]
  },
  {
   "cell_type": "code",
   "execution_count": 42,
   "id": "2cecba87",
   "metadata": {},
   "outputs": [
    {
     "name": "stdout",
     "output_type": "stream",
     "text": [
      "[{'neg': 0.134, 'neu': 0.604, 'pos': 0.262, 'compound': 0.9123}, {'neg': 0.103, 'neu': 0.63, 'pos': 0.267, 'compound': 0.9843}, {'neg': 0.214, 'neu': 0.725, 'pos': 0.061, 'compound': -0.9633}, {'neg': 0.319, 'neu': 0.458, 'pos': 0.223, 'compound': -0.7184}, {'neg': 0.177, 'neu': 0.706, 'pos': 0.117, 'compound': -0.6033}]\n"
     ]
    }
   ],
   "source": [
    "sia = SentimentIntensityAnalyzer()\n",
    "sentiment = []\n",
    "for i in range(len(clean_sentence)):\n",
    "    sentiment.append(sia.polarity_scores(clean_sentence[i]))\n",
    "print(sentiment)"
   ]
  },
  {
   "cell_type": "code",
   "execution_count": null,
   "id": "e0322439-d5a0-4a3f-bdcd-31838d3710c0",
   "metadata": {},
   "outputs": [],
   "source": []
  }
 ],
 "metadata": {
  "kernelspec": {
   "display_name": "Python 3 (ipykernel)",
   "language": "python",
   "name": "python3"
  },
  "language_info": {
   "codemirror_mode": {
    "name": "ipython",
    "version": 3
   },
   "file_extension": ".py",
   "mimetype": "text/x-python",
   "name": "python",
   "nbconvert_exporter": "python",
   "pygments_lexer": "ipython3",
   "version": "3.9.7"
  }
 },
 "nbformat": 4,
 "nbformat_minor": 5
}
